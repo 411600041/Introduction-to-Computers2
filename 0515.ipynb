{
  "nbformat": 4,
  "nbformat_minor": 0,
  "metadata": {
    "colab": {
      "provenance": [],
      "authorship_tag": "ABX9TyOxxKH1KCAw2pFyME3FLpIV",
      "include_colab_link": true
    },
    "kernelspec": {
      "name": "python3",
      "display_name": "Python 3"
    },
    "language_info": {
      "name": "python"
    }
  },
  "cells": [
    {
      "cell_type": "markdown",
      "metadata": {
        "id": "view-in-github",
        "colab_type": "text"
      },
      "source": [
        "<a href=\"https://colab.research.google.com/github/411600041/Introduction-to-Computers2/blob/main/0515.ipynb\" target=\"_parent\"><img src=\"https://colab.research.google.com/assets/colab-badge.svg\" alt=\"Open In Colab\"/></a>"
      ]
    },
    {
      "cell_type": "code",
      "source": [
        "rain = input(\"今天會下雨嗎? \")\n",
        "if ( rain==\"Y\" or rain==\"y\"):\n",
        "  print(\"出門記得帶傘!\")\n",
        "else:\n",
        "  print(\"請重新輸入\")"
      ],
      "metadata": {
        "id": "J4RIlNHbxHZA",
        "colab": {
          "base_uri": "https://localhost:8080/"
        },
        "outputId": "38845b02-e672-475a-cc83-f76d45e72157"
      },
      "execution_count": 14,
      "outputs": [
        {
          "output_type": "stream",
          "name": "stdout",
          "text": [
            "今天會下雨嗎? y\n",
            "出門記得帶傘!\n"
          ]
        }
      ]
    },
    {
      "cell_type": "code",
      "execution_count": 6,
      "metadata": {
        "id": "nJN6UZIgQt01",
        "colab": {
          "base_uri": "https://localhost:8080/"
        },
        "outputId": "0a37b6a9-93c7-41b8-ccc1-da9cbb08ef81"
      },
      "outputs": [
        {
          "output_type": "stream",
          "name": "stdout",
          "text": [
            "score: 34\n",
            "體溫正常!\n"
          ]
        }
      ],
      "source": [
        "a = int(input(\"score: \"))\n",
        "if a >= 37.5:\n",
        "  print('體溫過高!')\n",
        "elif 37.4>= a >=37:\n",
        "  print('體溫略高!')\n",
        "elif 36.9 >= a >= 34:\n",
        "  print('體溫正常!')\n",
        "elif a > 34:\n",
        "  print('體溫異常，請重新量測!')"
      ]
    },
    {
      "cell_type": "code",
      "source": [
        "score = int(input(\"score: \"))\n",
        "if score >= 90:\n",
        "    print('A')\n",
        "elif 89 >= score >= 80:\n",
        "    print('B')\n",
        "elif 79 >= score >= 70:\n",
        "    print('C')\n",
        "elif 69 >= score >= 60:\n",
        "    print('D')\n",
        "elif score < 60:\n",
        "    print('E')"
      ],
      "metadata": {
        "colab": {
          "base_uri": "https://localhost:8080/"
        },
        "id": "KiLaHiguyg1f",
        "outputId": "cbf76846-4870-41f6-cd44-e50fadf288b1"
      },
      "execution_count": 7,
      "outputs": [
        {
          "output_type": "stream",
          "name": "stdout",
          "text": [
            "score: 90\n",
            "A\n"
          ]
        }
      ]
    },
    {
      "cell_type": "code",
      "source": [
        "score = int(input(\"score: \"))\n",
        "if score >= 90:\n",
        "    print('A')\n",
        "elif 89 >= score >= 80:\n",
        "    print('B')\n",
        "elif 79 >= score >= 70:\n",
        "    print('C')\n",
        "elif 69 >= score >= 60:\n",
        "    print('D')\n",
        "elif score < 60:\n",
        "    print('E')"
      ],
      "metadata": {
        "colab": {
          "base_uri": "https://localhost:8080/"
        },
        "id": "HaKP3nWu27-x",
        "outputId": "b8971f79-7441-4a88-e781-431f9c364997"
      },
      "execution_count": 9,
      "outputs": [
        {
          "output_type": "stream",
          "name": "stdout",
          "text": [
            "score: 80\n",
            "B\n"
          ]
        }
      ]
    },
    {
      "cell_type": "code",
      "source": [
        "score = int(input(\"score: \"))\n",
        "if score >= 90:\n",
        "    print('A')\n",
        "elif 89 >= score >= 80:\n",
        "    print('B')\n",
        "elif 79 >= score >= 70:\n",
        "    print('C')\n",
        "elif 69 >= score >= 60:\n",
        "    print('D')\n",
        "elif score < 60:\n",
        "    print('E')"
      ],
      "metadata": {
        "colab": {
          "base_uri": "https://localhost:8080/"
        },
        "id": "Zj3yemBq3Fts",
        "outputId": "594bce87-252f-4a36-845d-f7a7c6418e26"
      },
      "execution_count": 10,
      "outputs": [
        {
          "output_type": "stream",
          "name": "stdout",
          "text": [
            "score: 50\n",
            "E\n"
          ]
        }
      ]
    },
    {
      "cell_type": "code",
      "source": [
        "score = int(input(\"score: \"))\n",
        "if score == 3 or 4 or 5:\n",
        "    print(score,'月是春天')\n",
        "elif score == 6 or 7 or 8:\n",
        "    print(score,'月是夏天')\n",
        "elif score == 9 or 10 or 11:\n",
        "    print(score,'月是秋天')\n",
        "elif score == 12 or 1 or 2:\n",
        "    print(score,'月是冬天')"
      ],
      "metadata": {
        "colab": {
          "base_uri": "https://localhost:8080/"
        },
        "id": "ieT3cE2l3JN9",
        "outputId": "3669f9a3-a786-46fe-bf7a-8ad48e3687b3"
      },
      "execution_count": 12,
      "outputs": [
        {
          "output_type": "stream",
          "name": "stdout",
          "text": [
            "score: 3\n",
            "3 月是春天\n"
          ]
        }
      ]
    }
  ]
}