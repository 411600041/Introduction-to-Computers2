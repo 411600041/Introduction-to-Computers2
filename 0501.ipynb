{
  "nbformat": 4,
  "nbformat_minor": 0,
  "metadata": {
    "colab": {
      "provenance": [],
      "authorship_tag": "ABX9TyM5nhagEYtd0cqCpGM5xK42",
      "include_colab_link": true
    },
    "kernelspec": {
      "name": "python3",
      "display_name": "Python 3"
    },
    "language_info": {
      "name": "python"
    }
  },
  "cells": [
    {
      "cell_type": "markdown",
      "metadata": {
        "id": "view-in-github",
        "colab_type": "text"
      },
      "source": [
        "<a href=\"https://colab.research.google.com/github/411600041/Introduction-to-Computers2/blob/main/0501.ipynb\" target=\"_parent\"><img src=\"https://colab.research.google.com/assets/colab-badge.svg\" alt=\"Open In Colab\"/></a>"
      ]
    },
    {
      "cell_type": "code",
      "execution_count": null,
      "metadata": {
        "colab": {
          "base_uri": "https://localhost:8080/"
        },
        "id": "PLf8gAW9KxLI",
        "outputId": "38438b37-4cbc-4fe3-eb59-9114f4711c39"
      },
      "outputs": [
        {
          "name": "stdout",
          "output_type": "stream",
          "text": [
            "請輸入本金存款金額:10000\n"
          ]
        }
      ],
      "source": [
        "m = int(input(\"請輸入本金存款金額:\"))"
      ]
    },
    {
      "cell_type": "code",
      "source": [
        "years = 1.02 ** 6"
      ],
      "metadata": {
        "id": "emmn6lLKOMHk"
      },
      "execution_count": null,
      "outputs": []
    },
    {
      "cell_type": "code",
      "source": [
        "print(\"6年後存款為:\",m * years)"
      ],
      "metadata": {
        "colab": {
          "base_uri": "https://localhost:8080/"
        },
        "id": "-IDVqWQiPqD4",
        "outputId": "e5633764-a8d1-4c89-f529-8785e13232c5"
      },
      "execution_count": null,
      "outputs": [
        {
          "output_type": "stream",
          "name": "stdout",
          "text": [
            "6年後存款為: 11261.62419264\n"
          ]
        }
      ]
    },
    {
      "cell_type": "code",
      "source": [
        "print(\"Hello World\")"
      ],
      "metadata": {
        "id": "68C4JhUbQJj4",
        "colab": {
          "base_uri": "https://localhost:8080/"
        },
        "outputId": "27c88a4b-ba2e-4238-ed52-ec44ed14831f"
      },
      "execution_count": null,
      "outputs": [
        {
          "output_type": "stream",
          "name": "stdout",
          "text": [
            "Hello World\n"
          ]
        }
      ]
    },
    {
      "cell_type": "code",
      "source": [
        "華式 = int(input(\"華氏溫度:\"))"
      ],
      "metadata": {
        "colab": {
          "base_uri": "https://localhost:8080/"
        },
        "id": "MohmnY8LRvRe",
        "outputId": "e4eeba05-a84a-4541-b765-c77a3806040b"
      },
      "execution_count": null,
      "outputs": [
        {
          "name": "stdout",
          "output_type": "stream",
          "text": [
            "華氏溫度:10000\n"
          ]
        }
      ]
    },
    {
      "cell_type": "code",
      "source": [
        "華式"
      ],
      "metadata": {
        "colab": {
          "base_uri": "https://localhost:8080/"
        },
        "id": "Szt1YTvvVmdB",
        "outputId": "6e02b9ec-898a-4dd6-b6a3-7594bd36b8ae"
      },
      "execution_count": null,
      "outputs": [
        {
          "output_type": "execute_result",
          "data": {
            "text/plain": [
              "10000"
            ]
          },
          "metadata": {},
          "execution_count": 14
        }
      ]
    },
    {
      "cell_type": "code",
      "source": [
        "F = float( (華式+32)*5/9 )"
      ],
      "metadata": {
        "id": "h0t0rMEsWcY8"
      },
      "execution_count": null,
      "outputs": []
    },
    {
      "cell_type": "code",
      "source": [
        "print( \"%.1f\" %(F) )"
      ],
      "metadata": {
        "colab": {
          "base_uri": "https://localhost:8080/"
        },
        "id": "x2qFjDMoWwmA",
        "outputId": "308b1eb8-b979-4143-efc1-22da2e275bef"
      },
      "execution_count": null,
      "outputs": [
        {
          "output_type": "stream",
          "name": "stdout",
          "text": [
            "5573.3\n"
          ]
        }
      ]
    },
    {
      "cell_type": "code",
      "source": [
        "n = int(input(\"整數\"))"
      ],
      "metadata": {
        "colab": {
          "base_uri": "https://localhost:8080/"
        },
        "id": "CgFiKOfKXZLA",
        "outputId": "2de4020a-2ea9-4483-ca1c-5fb7c5e1830a"
      },
      "execution_count": 245,
      "outputs": [
        {
          "name": "stdout",
          "output_type": "stream",
          "text": [
            "整數5\n"
          ]
        }
      ]
    },
    {
      "cell_type": "code",
      "source": [
        "n"
      ],
      "metadata": {
        "id": "VT1ULAaxqmLs",
        "outputId": "6e6c46fd-3390-4a7f-80c0-4ed5f625d0f6",
        "colab": {
          "base_uri": "https://localhost:8080/"
        }
      },
      "execution_count": 246,
      "outputs": [
        {
          "output_type": "execute_result",
          "data": {
            "text/plain": [
              "5"
            ]
          },
          "metadata": {},
          "execution_count": 246
        }
      ]
    },
    {
      "cell_type": "code",
      "source": [
        "a = n + 1"
      ],
      "metadata": {
        "id": "j6B1dNlnrgwl"
      },
      "execution_count": 251,
      "outputs": []
    },
    {
      "cell_type": "code",
      "source": [
        "a"
      ],
      "metadata": {
        "colab": {
          "base_uri": "https://localhost:8080/"
        },
        "id": "eopiQA3Arj5p",
        "outputId": "846bc0fb-eeb3-4e5f-c265-eff3eb96d5ed"
      },
      "execution_count": null,
      "outputs": [
        {
          "output_type": "execute_result",
          "data": {
            "text/plain": [
              "6"
            ]
          },
          "metadata": {},
          "execution_count": 141
        }
      ]
    },
    {
      "cell_type": "code",
      "source": [
        "while a > 1:\n",
        "  a = a - 1\n",
        "  print(a)"
      ],
      "metadata": {
        "id": "_A3jo0hmqGqO",
        "colab": {
          "base_uri": "https://localhost:8080/"
        },
        "outputId": "29f54da1-ee97-4ad8-bd2a-5f2895194e22"
      },
      "execution_count": null,
      "outputs": [
        {
          "output_type": "stream",
          "name": "stdout",
          "text": [
            "5\n",
            "4\n",
            "3\n",
            "2\n",
            "1\n"
          ]
        }
      ]
    },
    {
      "cell_type": "code",
      "source": [
        "b = 0\n",
        "for i in range(1, 6 ):\n",
        "   b = b+i"
      ],
      "metadata": {
        "id": "D5ksXZhZxe6B"
      },
      "execution_count": 256,
      "outputs": []
    },
    {
      "cell_type": "code",
      "source": [
        "print( b )"
      ],
      "metadata": {
        "colab": {
          "base_uri": "https://localhost:8080/"
        },
        "id": "35vr6DOjyZ9_",
        "outputId": "2437877b-c640-4198-951c-a56cb6d1f113"
      },
      "execution_count": 257,
      "outputs": [
        {
          "output_type": "stream",
          "name": "stdout",
          "text": [
            "15\n"
          ]
        }
      ]
    }
  ]
}